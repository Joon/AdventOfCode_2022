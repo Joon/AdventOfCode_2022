{
 "cells": [
  {
   "cell_type": "code",
   "execution_count": 43,
   "id": "da934a31",
   "metadata": {},
   "outputs": [
    {
     "data": {
      "text/plain": [
       "array([[2., 2., 2.],\n",
       "       [1., 2., 2.],\n",
       "       [3., 2., 2.],\n",
       "       [2., 1., 2.],\n",
       "       [2., 3., 2.],\n",
       "       [2., 2., 1.],\n",
       "       [2., 2., 3.],\n",
       "       [2., 2., 4.],\n",
       "       [2., 2., 6.],\n",
       "       [1., 2., 5.],\n",
       "       [3., 2., 5.],\n",
       "       [2., 1., 5.],\n",
       "       [2., 3., 5.]])"
      ]
     },
     "execution_count": 43,
     "metadata": {},
     "output_type": "execute_result"
    }
   ],
   "source": [
    "from numpy import genfromtxt\n",
    "my_data = genfromtxt('../day18_testinput.txt', delimiter=',')\n",
    "my_data"
   ]
  },
  {
   "cell_type": "code",
   "execution_count": 44,
   "id": "c0ca4dc6",
   "metadata": {},
   "outputs": [],
   "source": [
    "import open3d as o3d\n",
    "\n",
    "pcd = o3d.geometry.PointCloud()\n",
    "pcd.points = o3d.utility.Vector3dVector(my_data)\n",
    "o3d.visualization.draw_geometries([pcd])"
   ]
  },
  {
   "cell_type": "code",
   "execution_count": 70,
   "id": "7e32444e",
   "metadata": {},
   "outputs": [
    {
     "name": "stdout",
     "output_type": "stream",
     "text": [
      "TriangleMesh with 104 points and 156 triangles.\n",
      "TriangleMesh with 60 points and 156 triangles.\n"
     ]
    },
    {
     "data": {
      "text/plain": [
       "True"
      ]
     },
     "execution_count": 70,
     "metadata": {},
     "output_type": "execute_result"
    }
   ],
   "source": [
    "boxes = []\n",
    "for (x, y , z) in my_data:\n",
    "    a_cube = o3d.geometry.TriangleMesh.create_box(1,\n",
    "                                                  1,\n",
    "                                                  1,\n",
    "                                                  create_uv_map=True,\n",
    "                                                  map_texture_to_each_face=True)\n",
    "    a_cube.translate((x, y, z))\n",
    "    #a_cube.compute_vertex_normals()\n",
    "    boxes.append(a_cube)\n",
    "    \n",
    "start_box = boxes[0]\n",
    "for b in boxes[1:]:\n",
    "    start_box += b\n",
    "#o3d.io.write_triangle_mesh(\"plan_test.ply\", start_box)\n",
    "\n",
    "print(start_box)\n",
    "\n",
    "m = start_box.merge_close_vertices(1)\n",
    "\n",
    "print(m)\n",
    "#o3d.visualization.draw_geometries([d])  \n",
    "o3d.io.write_triangle_mesh(\"non_mani_test.ply\", m)"
   ]
  },
  {
   "cell_type": "code",
   "execution_count": 38,
   "id": "dce70325",
   "metadata": {},
   "outputs": [
    {
     "name": "stdout",
     "output_type": "stream",
     "text": [
      "4288\n"
     ]
    }
   ],
   "source": [
    "face_count = 0\n",
    "side_transforms = [\n",
    "    (1, 0, 0),\n",
    "    (-1, 0, 0),\n",
    "    (0, 1, 0),\n",
    "    (0, -1, 0),\n",
    "    (0, 0, 1),\n",
    "    (0, 0, -1)\n",
    "]\n",
    "for (x, y, z) in my_data:\n",
    "    for (tx, ty, tz) in side_transforms:\n",
    "        neighbour = (x + tx, y + ty, z + tz)\n",
    "        if not any(np.equal(my_data,neighbour).all(1)):\n",
    "            face_count += 1\n",
    "print(face_count)"
   ]
  },
  {
   "cell_type": "code",
   "execution_count": 31,
   "id": "001047ed",
   "metadata": {},
   "outputs": [
    {
     "data": {
      "text/plain": [
       "False"
      ]
     },
     "execution_count": 31,
     "metadata": {},
     "output_type": "execute_result"
    }
   ],
   "source": [
    "#[m for m in my_data if m[0] == 4]\n",
    "import numpy as np\n",
    "any(np.equal(my_data,(10.0, 2.0, 2.0)).all(1))"
   ]
  },
  {
   "cell_type": "code",
   "execution_count": 73,
   "id": "96f959f1",
   "metadata": {},
   "outputs": [
    {
     "ename": "KeyboardInterrupt",
     "evalue": "",
     "output_type": "error",
     "traceback": [
      "\u001b[1;31m---------------------------------------------------------------------------\u001b[0m",
      "\u001b[1;31mKeyboardInterrupt\u001b[0m                         Traceback (most recent call last)",
      "Input \u001b[1;32mIn [73]\u001b[0m, in \u001b[0;36m<cell line: 7>\u001b[1;34m()\u001b[0m\n\u001b[0;32m      5\u001b[0m start_z \u001b[38;5;241m=\u001b[39m \u001b[38;5;28mmax\u001b[39m([point[\u001b[38;5;241m2\u001b[39m] \u001b[38;5;28;01mfor\u001b[39;00m point \u001b[38;5;129;01min\u001b[39;00m my_data]) \u001b[38;5;241m+\u001b[39m \u001b[38;5;241m10\u001b[39m\n\u001b[0;32m      7\u001b[0m \u001b[38;5;28;01mwhile\u001b[39;00m \u001b[38;5;28;01mTrue\u001b[39;00m:\n\u001b[1;32m----> 8\u001b[0m     \u001b[38;5;28;01mif\u001b[39;00m \u001b[38;5;28many\u001b[39m(\u001b[43mnp\u001b[49m\u001b[38;5;241;43m.\u001b[39;49m\u001b[43mequal\u001b[49m\u001b[43m(\u001b[49m\u001b[43mmy_data\u001b[49m\u001b[43m,\u001b[49m\u001b[43m(\u001b[49m\u001b[43mstart_x\u001b[49m\u001b[43m,\u001b[49m\u001b[43m \u001b[49m\u001b[43mstart_y\u001b[49m\u001b[43m,\u001b[49m\u001b[43m \u001b[49m\u001b[43mstart_z\u001b[49m\u001b[43m)\u001b[49m\u001b[43m)\u001b[49m\u001b[38;5;241;43m.\u001b[39;49m\u001b[43mall\u001b[49m\u001b[43m(\u001b[49m\u001b[38;5;241;43m1\u001b[39;49m\u001b[43m)\u001b[49m):\n\u001b[0;32m      9\u001b[0m         \u001b[38;5;28;01mbreak\u001b[39;00m\n\u001b[0;32m     10\u001b[0m     start_x \u001b[38;5;241m=\u001b[39m start_x \u001b[38;5;241m-\u001b[39m \u001b[38;5;241m1\u001b[39m\n",
      "File \u001b[1;32m~\\AppData\\Local\\Programs\\Python\\Python310\\lib\\site-packages\\numpy\\core\\_methods.py:60\u001b[0m, in \u001b[0;36m_all\u001b[1;34m(a, axis, dtype, out, keepdims, where)\u001b[0m\n\u001b[0;32m     57\u001b[0m         \u001b[38;5;28;01mreturn\u001b[39;00m umr_any(a, axis, dtype, out, keepdims)\n\u001b[0;32m     58\u001b[0m     \u001b[38;5;28;01mreturn\u001b[39;00m umr_any(a, axis, dtype, out, keepdims, where\u001b[38;5;241m=\u001b[39mwhere)\n\u001b[1;32m---> 60\u001b[0m \u001b[38;5;28;01mdef\u001b[39;00m \u001b[38;5;21m_all\u001b[39m(a, axis\u001b[38;5;241m=\u001b[39m\u001b[38;5;28;01mNone\u001b[39;00m, dtype\u001b[38;5;241m=\u001b[39m\u001b[38;5;28;01mNone\u001b[39;00m, out\u001b[38;5;241m=\u001b[39m\u001b[38;5;28;01mNone\u001b[39;00m, keepdims\u001b[38;5;241m=\u001b[39m\u001b[38;5;28;01mFalse\u001b[39;00m, \u001b[38;5;241m*\u001b[39m, where\u001b[38;5;241m=\u001b[39m\u001b[38;5;28;01mTrue\u001b[39;00m):\n\u001b[0;32m     61\u001b[0m     \u001b[38;5;66;03m# Parsing keyword arguments is currently fairly slow, so avoid it for now\u001b[39;00m\n\u001b[0;32m     62\u001b[0m     \u001b[38;5;28;01mif\u001b[39;00m where \u001b[38;5;129;01mis\u001b[39;00m \u001b[38;5;28;01mTrue\u001b[39;00m:\n\u001b[0;32m     63\u001b[0m         \u001b[38;5;28;01mreturn\u001b[39;00m umr_all(a, axis, dtype, out, keepdims)\n",
      "\u001b[1;31mKeyboardInterrupt\u001b[0m: "
     ]
    }
   ],
   "source": [
    "# first - find outside\n",
    "\n",
    "start_x = max([point[0] for point in my_data]) + 10\n",
    "start_y = max([point[1] for point in my_data]) + 10\n",
    "start_z = max([point[2] for point in my_data]) + 10\n",
    "\n",
    "while True:\n",
    "    if any(np.equal(my_data,(start_x, start_y, start_z)).all(1)):\n",
    "        break\n",
    "    start_x = start_x - 1\n",
    "    start_y = start_y - 1\n",
    "    start_z = start_z - 1\n",
    "\n",
    "print(f\"starting at last clear spot approaching block: {(start_x, start_y, start_z)}\")    "
   ]
  }
 ],
 "metadata": {
  "kernelspec": {
   "display_name": "Python 3 (ipykernel)",
   "language": "python",
   "name": "python3"
  },
  "language_info": {
   "codemirror_mode": {
    "name": "ipython",
    "version": 3
   },
   "file_extension": ".py",
   "mimetype": "text/x-python",
   "name": "python",
   "nbconvert_exporter": "python",
   "pygments_lexer": "ipython3",
   "version": "3.10.6"
  }
 },
 "nbformat": 4,
 "nbformat_minor": 5
}
